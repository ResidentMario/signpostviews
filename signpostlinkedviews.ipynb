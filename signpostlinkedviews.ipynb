{
 "cells": [
  {
   "cell_type": "markdown",
   "metadata": {},
   "source": [
    "# Signpost Article Linked Views\n",
    "\n",
    "Sometimes *Signpost* articles get linked to by mainstream media (usually tech media). This short companion notebook studies what happens when this happens."
   ]
  },
  {
   "cell_type": "code",
   "execution_count": 30,
   "metadata": {
    "collapsed": true
   },
   "outputs": [],
   "source": [
    "from pageviews import PageviewsClient\n",
    "import urllib\n",
    "import mwapi\n",
    "import arrow\n",
    "import datetime\n",
    "\n",
    "\n",
    "def viewcounts(article_name, start=None, end=None):\n",
    "    \"\"\"\n",
    "    Fetches the viewcounts.\n",
    "    \"\"\"\n",
    "    article_name = article_name.replace(' ', '_')\n",
    "    parsed_article_name = urllib.parse.quote(article_name).replace('/', '%2F')\n",
    "    p = PageviewsClient().article_views(\"en.wikipedia\",\n",
    "                                        [parsed_article_name],\n",
    "                                        access=\"all-access\",\n",
    "                                        # access=\"users\",\n",
    "                                        granularity=\"daily\",\n",
    "                                        start=start,\n",
    "                                        end=end)\n",
    "    counts = {key: p[key][article_name] for key in p.keys()}\n",
    "    return [p[key][article_name] for key in sorted(p.keys())]\n",
    "    # TODO: Fix be pre-padding with 0s if output is below 15 length."
   ]
  },
  {
   "cell_type": "code",
   "execution_count": 15,
   "metadata": {
    "collapsed": false
   },
   "outputs": [],
   "source": [
    "import json\n",
    "import plotly.plotly as py\n",
    "import plotly.graph_objs as go\n",
    "import plotly.tools as tls\n",
    "\n",
    "# Set my plotly credentials.\n",
    "data = json.load(open('plotly_credentials.json'))['credentials']\n",
    "tls.set_credentials_file(username=data['username'], api_key=data['key'])"
   ]
  },
  {
   "cell_type": "code",
   "execution_count": 41,
   "metadata": {
    "collapsed": false
   },
   "outputs": [
    {
     "data": {
      "text/html": [
       "<iframe id=\"igraph\" scrolling=\"no\" style=\"border:none;\"seamless=\"seamless\" src=\"https://plot.ly/~ResidentMario/12.embed\" height=\"525px\" width=\"100%\"></iframe>"
      ],
      "text/plain": [
       "<plotly.tools.PlotlyDisplay object>"
      ]
     },
     "execution_count": 41,
     "metadata": {},
     "output_type": "execute_result"
    }
   ],
   "source": [
    "example_viewcounts = viewcounts(\"Wikipedia:Wikipedia Signpost/2015-12-09/Op-ed\", start=\"2015121000\", end =\"2015123000\")\n",
    "\n",
    "trace1 = go.Scatter(\n",
    "    x = [(arrow.get(\"2015-12-10-00\") + datetime.timedelta(days=n)).format(\"YYYY-MM-DD\") for n in range(0, 20)],\n",
    "    \n",
    "    y = example_viewcounts,\n",
    "    mode = 'lines',\n",
    "    name = 'article views'\n",
    ")\n",
    "\n",
    "layout = go.Layout(\n",
    "    title='Typical Signpost Viewership Curve'\n",
    ")\n",
    "\n",
    "data = [trace1]\n",
    "\n",
    "fig = go.Figure(data=data, layout=layout)\n",
    "py.iplot(fig, filename='example-signpost-views-curve')"
   ]
  },
  {
   "cell_type": "markdown",
   "metadata": {},
   "source": [
    "This is the viewership curve for a typical *Signpost* article, the fairly popular op-ed \"[Wikidata: Knowledge from different points of view](https://en.wikipedia.org/wiki/Wikipedia:Wikipedia_Signpost/2015-12-09/Op-ed)\", from pre-publication to publication to post-publication. It's a pattern that's representative of what most *Signpost* viewership curves look like."
   ]
  },
  {
   "cell_type": "code",
   "execution_count": 40,
   "metadata": {
    "collapsed": false,
    "scrolled": true
   },
   "outputs": [
    {
     "data": {
      "text/html": [
       "<iframe id=\"igraph\" scrolling=\"no\" style=\"border:none;\"seamless=\"seamless\" src=\"https://plot.ly/~ResidentMario/14.embed\" height=\"525px\" width=\"100%\"></iframe>"
      ],
      "text/plain": [
       "<plotly.tools.PlotlyDisplay object>"
      ]
     },
     "execution_count": 40,
     "metadata": {},
     "output_type": "execute_result"
    }
   ],
   "source": [
    "example_viewcounts = viewcounts(\"Wikipedia:Wikipedia Signpost/2016-01-13/News and notes\", start=\"2016011500\", end =\"2016013000\")\n",
    "\n",
    "trace1 = go.Scatter(\n",
    "#     x = list(range(len(example_viewcounts))),\n",
    "    x = [(arrow.get(\"2016-01-15-00\") + datetime.timedelta(days=n)).format(\"YYYY-MM-DD\") for n in range(0, 14)],\n",
    "    y = example_viewcounts,\n",
    "    mode = 'lines',\n",
    "    name = 'article views'\n",
    ")\n",
    "\n",
    "layout = go.Layout(\n",
    "    title='Not A Typical Signpost Viewership Curve'\n",
    ")\n",
    "\n",
    "data = [trace1]\n",
    "\n",
    "fig = go.Figure(data=data, layout=layout)\n",
    "py.iplot(fig, filename='example-linked-signpost-views-curve')"
   ]
  },
  {
   "cell_type": "markdown",
   "metadata": {},
   "source": [
    "What happened to \"[Community objects to board trustee](https://en.wikipedia.org/wiki/Wikipedia:Wikipedia_Signpost/2016-01-13/News_and_notes)\" here? Actually this graph is a tale of two curves: the original peak is the Wikipedia community (e.g. the *Signpost's* usual readers) picking up on the story immediately after publication; the much large peak is the mainstream media picking up on the news. What was already an extremely popular article by *Signpost* standards absolutely exploded when the story was picked up and recirculated by several outlets linking back to the *Signpost*: [ZDNet](http://www.zdnet.fr/actualites/un-membre-du-ca-de-la-fondation-wikimedia-mis-en-cause-pour-son-passe-chez-google-39831606.htm), [The Register](http://www.theregister.co.uk/2016/01/27/trust_me_pleads_wikipedia_former_google_man/), [The Register](http://www.theregister.co.uk/2016/01/28/wmf_geshuri_steps_down/?mt=1454029117421), and, most critically and centrally, [Fortune](http://fortune.com/2016/01/26/wikipedia-board-geshuri/).\n",
    "\n",
    "Let's look at a few more like this: the ones that we're aware of, at least. It's helpful for our purposes to compare how we were linked and from where to how much we got out of it.\n",
    "\n",
    "Since the pageview API data doesn't go back very far we also first need to define a similar API caller against the older, venerable [stats.grok.se](http://stats.grok.se/) API."
   ]
  },
  {
   "cell_type": "code",
   "execution_count": null,
   "metadata": {
    "collapsed": true
   },
   "outputs": [],
   "source": [
    "https://en.wikipedia.org/wiki/Wikipedia:Wikipedia_Signpost/2015-01-21/Anniversary\n",
    "http://quarry.wmflabs.org/query/7131"
   ]
  },
  {
   "cell_type": "code",
   "execution_count": null,
   "metadata": {
    "collapsed": true
   },
   "outputs": [],
   "source": [
    "def grok_viewcounts(article)"
   ]
  },
  {
   "cell_type": "markdown",
   "metadata": {},
   "source": [
    "## Further examples"
   ]
  },
  {
   "cell_type": "code",
   "execution_count": null,
   "metadata": {
    "collapsed": true
   },
   "outputs": [],
   "source": [
    "example_viewcounts = viewcounts(\"Wikipedia:Wikipedia Signpost/2016-01-13/News and notes\", start=\"2016011500\", end =\"2016013000\")\n",
    "\n",
    "trace1 = go.Scatter(\n",
    "#     x = list(range(len(example_viewcounts))),\n",
    "    x = [(arrow.get(\"2016-01-15-00\") + datetime.timedelta(days=n)).format(\"YYYY-MM-DD\") for n in range(0, 14)],\n",
    "    y = example_viewcounts,\n",
    "    mode = 'lines',\n",
    "    name = 'article views'\n",
    ")\n",
    "\n",
    "layout = go.Layout(\n",
    "    title='Not A Typical Signpost Viewership Curve'\n",
    ")\n",
    "\n",
    "data = [trace1]\n",
    "\n",
    "fig = go.Figure(data=data, layout=layout)\n",
    "py.iplot(fig, filename='example-2-linked-signpost-views-curve')"
   ]
  }
 ],
 "metadata": {
  "kernelspec": {
   "display_name": "Python 3",
   "language": "python",
   "name": "python3"
  },
  "language_info": {
   "codemirror_mode": {
    "name": "ipython",
    "version": 3
   },
   "file_extension": ".py",
   "mimetype": "text/x-python",
   "name": "python",
   "nbconvert_exporter": "python",
   "pygments_lexer": "ipython3",
   "version": "3.4.4"
  }
 },
 "nbformat": 4,
 "nbformat_minor": 0
}
