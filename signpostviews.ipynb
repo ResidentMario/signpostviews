{
 "cells": [
  {
   "cell_type": "markdown",
   "metadata": {},
   "source": [
    "## Signpost Article Views\n",
    "\n",
    "I've wanted to run some basic statistics on *Wikipedia Signpost* article views for a while now, to figure out what people like or don't like reading about. Now I'm finally getting to sit down and do it..."
   ]
  },
  {
   "cell_type": "code",
   "execution_count": 147,
   "metadata": {
    "collapsed": false
   },
   "outputs": [],
   "source": [
    "from pageviews import PageviewsClient\n",
    "import arrow\n",
    "import datetime\n",
    "import urllib\n",
    "from pandas import DataFrame\n",
    "import pandas as pd\n",
    "import mwapi\n",
    "\n",
    "\n",
    "def viewcounts(article_name, start=None, end=None):\n",
    "    \"\"\"\n",
    "    Fetches the viewcounts.\n",
    "    \"\"\"\n",
    "    article_name = article_name.replace(' ', '_')\n",
    "    parsed_article_name = urllib.parse.quote(article_name).replace('/', '%2F')\n",
    "    p = PageviewsClient().article_views(\"en.wikipedia\",\n",
    "                                        [parsed_article_name],\n",
    "                                        access=\"all-access\",\n",
    "                                        granularity=\"daily\",\n",
    "                                        start=start,\n",
    "                                        end=end)\n",
    "    counts = {key: p[key][article_name] for key in p.keys()}\n",
    "    # return [counts[key] for key in sorted(counts.keys())]\n",
    "    return [p[key][article_name] for key in sorted(p.keys())]\n",
    "    return counts\n",
    "\n",
    "def article_viewcounts(article_name):\n",
    "    \"\"\"\n",
    "    Fetches a list of the Signpost article viewcount from the date of the publication window.\n",
    "    The Signpost is usually published late, so a generous 14 day news \"cycle\" is allotted as the publication window.\n",
    "    In reality views are low before publication and after publication of the next issue, so this doesn't have much effect.\n",
    "    \"\"\"\n",
    "    pubdate = arrow.get(article_name.split(\"/\")[1])\n",
    "    enddate = (pubdate + datetime.timedelta(days=14)).strftime('%Y%m%d%H')\n",
    "    pubdate = pubdate.strftime('%Y%m%d%H')\n",
    "    return viewcounts(article_name, start=pubdate, end=enddate)\n",
    "\n",
    "def total_viewcount(article_name):\n",
    "    \"\"\"\n",
    "    Returns the total 60-day viewcount.\n",
    "    \"\"\"\n",
    "    return sum(article_viewcounts(article_name))\n",
    "\n",
    "def average_daily_viewcount(article_name):\n",
    "    \"\"\"\n",
    "    Returns the average daily viewcount of the article.\n",
    "    \"\"\"\n",
    "    counts = article_viewcounts(article_name)\n",
    "    return sum(counts)/len(counts)\n",
    "\n",
    "def get_all_articles(prefix):\n",
    "    \"\"\"\n",
    "    Returns a list of the titles of all of the Signpost articles published after a certain prefix.\n",
    "    Prefix is 2015-10-07 for now, the earliest published Signpost story for which data is available (yet).\n",
    "    \"\"\"\n",
    "    session = mwapi.Session('https://en.wikipedia.org', user_agent='signpostviews Jupyter notebook')\n",
    "    raw_result = session.get(action='query',\n",
    "                             list='allpages',\n",
    "                             apfrom=prefix,\n",
    "                             apto='Wikipedia Signpost/A',\n",
    "                             apprefix='Wikipedia Signpost',\n",
    "                             apnamespace=4,\n",
    "                             aplimit=500,\n",
    "                             formatversion=2)\n",
    "    # The >= 2 call filters out results e.g. Wikipedia:Wikipedia Signpost/2015-07-18\n",
    "    # The not 2016 call keeps out titles too recent to have full data for.\n",
    "    result = [r['title'] for r in raw_result['query']['allpages'] if r['title'].count(\"/\") >= 2]\n",
    "    return result\n",
    "\n",
    "def tabulate(articles):\n",
    "    pass_dict = {article: article_viewcounts(article) for article in articles}"
   ]
  },
  {
   "cell_type": "code",
   "execution_count": 146,
   "metadata": {
    "collapsed": false
   },
   "outputs": [
    {
     "data": {
      "text/plain": [
       "['Wikipedia:Wikipedia Signpost/2015-10-07/Op-ed',\n",
       " 'Wikipedia:Wikipedia Signpost/2015-10-07/Technology report',\n",
       " 'Wikipedia:Wikipedia Signpost/2015-10-07/Traffic report',\n",
       " 'Wikipedia:Wikipedia Signpost/2015-10-14/Blog',\n",
       " 'Wikipedia:Wikipedia Signpost/2015-10-14/Editorial',\n",
       " 'Wikipedia:Wikipedia Signpost/2015-10-14/Featured content',\n",
       " 'Wikipedia:Wikipedia Signpost/2015-10-14/Gallery',\n",
       " 'Wikipedia:Wikipedia Signpost/2015-10-14/News and notes',\n",
       " 'Wikipedia:Wikipedia Signpost/2015-10-14/Op-ed',\n",
       " 'Wikipedia:Wikipedia Signpost/2015-10-14/Technology report',\n",
       " 'Wikipedia:Wikipedia Signpost/2015-10-14/Traffic report',\n",
       " 'Wikipedia:Wikipedia Signpost/2015-10-14/WikiConference Report',\n",
       " 'Wikipedia:Wikipedia Signpost/2015-10-14/WikiConference report',\n",
       " 'Wikipedia:Wikipedia Signpost/2015-10-21/Arbitration report',\n",
       " 'Wikipedia:Wikipedia Signpost/2015-10-21/Editorial',\n",
       " 'Wikipedia:Wikipedia Signpost/2015-10-21/Featured content',\n",
       " 'Wikipedia:Wikipedia Signpost/2015-10-21/In the media',\n",
       " 'Wikipedia:Wikipedia Signpost/2015-10-21/News and notes',\n",
       " 'Wikipedia:Wikipedia Signpost/2015-10-21/Op-ed',\n",
       " 'Wikipedia:Wikipedia Signpost/2015-10-21/Special report',\n",
       " 'Wikipedia:Wikipedia Signpost/2015-10-21/Technology report',\n",
       " 'Wikipedia:Wikipedia Signpost/2015-10-21/Traffic report',\n",
       " 'Wikipedia:Wikipedia Signpost/2015-10-28/Arbitration report',\n",
       " 'Wikipedia:Wikipedia Signpost/2015-10-28/Blog',\n",
       " 'Wikipedia:Wikipedia Signpost/2015-10-28/Community letter',\n",
       " 'Wikipedia:Wikipedia Signpost/2015-10-28/Featured content',\n",
       " 'Wikipedia:Wikipedia Signpost/2015-10-28/From the editor',\n",
       " 'Wikipedia:Wikipedia Signpost/2015-10-28/In the media',\n",
       " 'Wikipedia:Wikipedia Signpost/2015-10-28/News and notes',\n",
       " 'Wikipedia:Wikipedia Signpost/2015-10-28/Op-ed',\n",
       " 'Wikipedia:Wikipedia Signpost/2015-10-28/Recent research',\n",
       " 'Wikipedia:Wikipedia Signpost/2015-10-28/Technology report',\n",
       " 'Wikipedia:Wikipedia Signpost/2015-10-28/Traffic report',\n",
       " 'Wikipedia:Wikipedia Signpost/2015-11-04/Arbitration report',\n",
       " 'Wikipedia:Wikipedia Signpost/2015-11-04/Featured content',\n",
       " 'Wikipedia:Wikipedia Signpost/2015-11-04/Gallery',\n",
       " 'Wikipedia:Wikipedia Signpost/2015-11-04/In the media',\n",
       " 'Wikipedia:Wikipedia Signpost/2015-11-04/News and notes',\n",
       " 'Wikipedia:Wikipedia Signpost/2015-11-04/Op-ed',\n",
       " 'Wikipedia:Wikipedia Signpost/2015-11-04/Technology report',\n",
       " 'Wikipedia:Wikipedia Signpost/2015-11-04/Traffic report',\n",
       " 'Wikipedia:Wikipedia Signpost/2015-11-11/Arbitration report',\n",
       " 'Wikipedia:Wikipedia Signpost/2015-11-11/Discussion report',\n",
       " 'Wikipedia:Wikipedia Signpost/2015-11-11/Featured content',\n",
       " 'Wikipedia:Wikipedia Signpost/2015-11-11/Gallery',\n",
       " 'Wikipedia:Wikipedia Signpost/2015-11-11/In the media',\n",
       " 'Wikipedia:Wikipedia Signpost/2015-11-11/Op-ed',\n",
       " 'Wikipedia:Wikipedia Signpost/2015-11-11/Traffic report',\n",
       " 'Wikipedia:Wikipedia Signpost/2015-11-18/Arbitration report',\n",
       " 'Wikipedia:Wikipedia Signpost/2015-11-18/Discussion report',\n",
       " 'Wikipedia:Wikipedia Signpost/2015-11-18/Featured content',\n",
       " 'Wikipedia:Wikipedia Signpost/2015-11-18/In the media',\n",
       " 'Wikipedia:Wikipedia Signpost/2015-11-18/Special report',\n",
       " 'Wikipedia:Wikipedia Signpost/2015-11-18/Traffic report',\n",
       " 'Wikipedia:Wikipedia Signpost/2015-11-25/Arbitration report',\n",
       " 'Wikipedia:Wikipedia Signpost/2015-11-25/Blog',\n",
       " 'Wikipedia:Wikipedia Signpost/2015-11-25/Featured content',\n",
       " 'Wikipedia:Wikipedia Signpost/2015-11-25/In the media',\n",
       " 'Wikipedia:Wikipedia Signpost/2015-11-25/News and notes',\n",
       " 'Wikipedia:Wikipedia Signpost/2015-11-25/Op-ed',\n",
       " 'Wikipedia:Wikipedia Signpost/2015-11-25/Recent research',\n",
       " 'Wikipedia:Wikipedia Signpost/2015-11-25/Technology report',\n",
       " 'Wikipedia:Wikipedia Signpost/2015-11-25/Traffic report',\n",
       " 'Wikipedia:Wikipedia Signpost/2015-12-02/Featured content',\n",
       " 'Wikipedia:Wikipedia Signpost/2015-12-02/In the media',\n",
       " 'Wikipedia:Wikipedia Signpost/2015-12-02/News and notes',\n",
       " 'Wikipedia:Wikipedia Signpost/2015-12-02/Op-ed',\n",
       " 'Wikipedia:Wikipedia Signpost/2015-12-02/Technology report',\n",
       " 'Wikipedia:Wikipedia Signpost/2015-12-02/Traffic report',\n",
       " 'Wikipedia:Wikipedia Signpost/2015-12-09/Featured content',\n",
       " 'Wikipedia:Wikipedia Signpost/2015-12-09/Gallery',\n",
       " 'Wikipedia:Wikipedia Signpost/2015-12-09/In the media',\n",
       " 'Wikipedia:Wikipedia Signpost/2015-12-09/News and notes',\n",
       " 'Wikipedia:Wikipedia Signpost/2015-12-09/Op-ed',\n",
       " 'Wikipedia:Wikipedia Signpost/2015-12-09/Technology report',\n",
       " 'Wikipedia:Wikipedia Signpost/2015-12-09/Traffic report',\n",
       " 'Wikipedia:Wikipedia Signpost/2015-12-09/WikiProject report',\n",
       " 'Wikipedia:Wikipedia Signpost/2015-12-16/Arbitration report',\n",
       " 'Wikipedia:Wikipedia Signpost/2015-12-16/Featured content',\n",
       " 'Wikipedia:Wikipedia Signpost/2015-12-16/Gallery',\n",
       " 'Wikipedia:Wikipedia Signpost/2015-12-16/In focus',\n",
       " 'Wikipedia:Wikipedia Signpost/2015-12-16/In the media',\n",
       " 'Wikipedia:Wikipedia Signpost/2015-12-16/Traffic report',\n",
       " 'Wikipedia:Wikipedia Signpost/2015-12-16/WikiProject report',\n",
       " 'Wikipedia:Wikipedia Signpost/2015-12-23/Featured content',\n",
       " 'Wikipedia:Wikipedia Signpost/2015-12-23/Technology report',\n",
       " 'Wikipedia:Wikipedia Signpost/2015-12-30/Arbitration report',\n",
       " 'Wikipedia:Wikipedia Signpost/2015-12-30/Featured content',\n",
       " 'Wikipedia:Wikipedia Signpost/2015-12-30/Gallery',\n",
       " 'Wikipedia:Wikipedia Signpost/2015-12-30/In the media',\n",
       " 'Wikipedia:Wikipedia Signpost/2015-12-30/News and notes',\n",
       " 'Wikipedia:Wikipedia Signpost/2015-12-30/Traffic report',\n",
       " 'Wikipedia:Wikipedia Signpost/2015-12-30/Year in review']"
      ]
     },
     "execution_count": 146,
     "metadata": {},
     "output_type": "execute_result"
    }
   ],
   "source": [
    "[article for article in get_all_articles(\"Wikipedia Signpost/2015-10-07/Op-ed\") if '2016' not in article]"
   ]
  },
  {
   "cell_type": "code",
   "execution_count": 148,
   "metadata": {
    "collapsed": false
   },
   "outputs": [
    {
     "name": "stdout",
     "output_type": "stream",
     "text": [
      "ERROR while fetching and parsing ['https://wikimedia.org/api/rest_v1/metrics/pageviews/per-article/en.wikipedia/all-access/all-agents/Wikipedia%3AWikipedia_Signpost%2F2015-12-09%2FOp-ed/daily/2015120900/2015122300']\n"
     ]
    },
    {
     "name": "stderr",
     "output_type": "stream",
     "text": [
      "Traceback (most recent call last):\n",
      "  File \"C:\\Users\\Alex\\Desktop\\signpostviews\\pageviews.py\", line 108, in article_views\n",
      "    results = self.get_concurrent(urls)\n",
      "  File \"C:\\Users\\Alex\\Desktop\\signpostviews\\pageviews.py\", line 280, in get_concurrent\n",
      "    return list(executor.map(f, urls))\n",
      "  File \"C:\\Users\\Alex\\Anaconda3\\lib\\concurrent\\futures\\_base.py\", line 549, in result_iterator\n",
      "    yield future.result()\n",
      "  File \"C:\\Users\\Alex\\Anaconda3\\lib\\concurrent\\futures\\_base.py\", line 397, in result\n",
      "    self._condition.wait(timeout)\n",
      "  File \"C:\\Users\\Alex\\Anaconda3\\lib\\threading.py\", line 290, in wait\n",
      "    waiter.acquire()\n",
      "KeyboardInterrupt\n"
     ]
    },
    {
     "ename": "KeyboardInterrupt",
     "evalue": "",
     "output_type": "error",
     "traceback": [
      "\u001b[1;31m---------------------------------------------------------------------------\u001b[0m",
      "\u001b[1;31mKeyboardInterrupt\u001b[0m                         Traceback (most recent call last)",
      "\u001b[1;32m<ipython-input-148-cf205ed4bc8c>\u001b[0m in \u001b[0;36m<module>\u001b[1;34m()\u001b[0m\n\u001b[0;32m      1\u001b[0m \u001b[0mtargets\u001b[0m \u001b[1;33m=\u001b[0m \u001b[1;33m[\u001b[0m\u001b[0marticle\u001b[0m \u001b[1;32mfor\u001b[0m \u001b[0marticle\u001b[0m \u001b[1;32min\u001b[0m \u001b[0mget_all_articles\u001b[0m\u001b[1;33m(\u001b[0m\u001b[1;34m\"Wikipedia Signpost/2015-10-07/Op-ed\"\u001b[0m\u001b[1;33m)\u001b[0m \u001b[1;32mif\u001b[0m \u001b[1;34m'2016'\u001b[0m \u001b[1;32mnot\u001b[0m \u001b[1;32min\u001b[0m \u001b[0marticle\u001b[0m\u001b[1;33m]\u001b[0m\u001b[1;33m\u001b[0m\u001b[0m\n\u001b[1;32m----> 2\u001b[1;33m \u001b[0mall_views\u001b[0m \u001b[1;33m=\u001b[0m \u001b[0mtabulate\u001b[0m\u001b[1;33m(\u001b[0m\u001b[0mtargets\u001b[0m\u001b[1;33m)\u001b[0m\u001b[1;33m\u001b[0m\u001b[0m\n\u001b[0m",
      "\u001b[1;32m<ipython-input-147-9572c5db5cfe>\u001b[0m in \u001b[0;36mtabulate\u001b[1;34m(articles)\u001b[0m\n\u001b[0;32m     69\u001b[0m \u001b[1;33m\u001b[0m\u001b[0m\n\u001b[0;32m     70\u001b[0m \u001b[1;32mdef\u001b[0m \u001b[0mtabulate\u001b[0m\u001b[1;33m(\u001b[0m\u001b[0marticles\u001b[0m\u001b[1;33m)\u001b[0m\u001b[1;33m:\u001b[0m\u001b[1;33m\u001b[0m\u001b[0m\n\u001b[1;32m---> 71\u001b[1;33m     \u001b[0mpass_dict\u001b[0m \u001b[1;33m=\u001b[0m \u001b[1;33m{\u001b[0m\u001b[0marticle\u001b[0m\u001b[1;33m:\u001b[0m \u001b[0marticle_viewcounts\u001b[0m\u001b[1;33m(\u001b[0m\u001b[0marticle\u001b[0m\u001b[1;33m)\u001b[0m \u001b[1;32mfor\u001b[0m \u001b[0marticle\u001b[0m \u001b[1;32min\u001b[0m \u001b[0marticles\u001b[0m\u001b[1;33m}\u001b[0m\u001b[1;33m\u001b[0m\u001b[0m\n\u001b[0m",
      "\u001b[1;32m<ipython-input-147-9572c5db5cfe>\u001b[0m in \u001b[0;36m<dictcomp>\u001b[1;34m(.0)\u001b[0m\n\u001b[0;32m     69\u001b[0m \u001b[1;33m\u001b[0m\u001b[0m\n\u001b[0;32m     70\u001b[0m \u001b[1;32mdef\u001b[0m \u001b[0mtabulate\u001b[0m\u001b[1;33m(\u001b[0m\u001b[0marticles\u001b[0m\u001b[1;33m)\u001b[0m\u001b[1;33m:\u001b[0m\u001b[1;33m\u001b[0m\u001b[0m\n\u001b[1;32m---> 71\u001b[1;33m     \u001b[0mpass_dict\u001b[0m \u001b[1;33m=\u001b[0m \u001b[1;33m{\u001b[0m\u001b[0marticle\u001b[0m\u001b[1;33m:\u001b[0m \u001b[0marticle_viewcounts\u001b[0m\u001b[1;33m(\u001b[0m\u001b[0marticle\u001b[0m\u001b[1;33m)\u001b[0m \u001b[1;32mfor\u001b[0m \u001b[0marticle\u001b[0m \u001b[1;32min\u001b[0m \u001b[0marticles\u001b[0m\u001b[1;33m}\u001b[0m\u001b[1;33m\u001b[0m\u001b[0m\n\u001b[0m",
      "\u001b[1;32m<ipython-input-147-9572c5db5cfe>\u001b[0m in \u001b[0;36marticle_viewcounts\u001b[1;34m(article_name)\u001b[0m\n\u001b[0;32m     34\u001b[0m     \u001b[0menddate\u001b[0m \u001b[1;33m=\u001b[0m \u001b[1;33m(\u001b[0m\u001b[0mpubdate\u001b[0m \u001b[1;33m+\u001b[0m \u001b[0mdatetime\u001b[0m\u001b[1;33m.\u001b[0m\u001b[0mtimedelta\u001b[0m\u001b[1;33m(\u001b[0m\u001b[0mdays\u001b[0m\u001b[1;33m=\u001b[0m\u001b[1;36m14\u001b[0m\u001b[1;33m)\u001b[0m\u001b[1;33m)\u001b[0m\u001b[1;33m.\u001b[0m\u001b[0mstrftime\u001b[0m\u001b[1;33m(\u001b[0m\u001b[1;34m'%Y%m%d%H'\u001b[0m\u001b[1;33m)\u001b[0m\u001b[1;33m\u001b[0m\u001b[0m\n\u001b[0;32m     35\u001b[0m     \u001b[0mpubdate\u001b[0m \u001b[1;33m=\u001b[0m \u001b[0mpubdate\u001b[0m\u001b[1;33m.\u001b[0m\u001b[0mstrftime\u001b[0m\u001b[1;33m(\u001b[0m\u001b[1;34m'%Y%m%d%H'\u001b[0m\u001b[1;33m)\u001b[0m\u001b[1;33m\u001b[0m\u001b[0m\n\u001b[1;32m---> 36\u001b[1;33m     \u001b[1;32mreturn\u001b[0m \u001b[0mviewcounts\u001b[0m\u001b[1;33m(\u001b[0m\u001b[0marticle_name\u001b[0m\u001b[1;33m,\u001b[0m \u001b[0mstart\u001b[0m\u001b[1;33m=\u001b[0m\u001b[0mpubdate\u001b[0m\u001b[1;33m,\u001b[0m \u001b[0mend\u001b[0m\u001b[1;33m=\u001b[0m\u001b[0menddate\u001b[0m\u001b[1;33m)\u001b[0m\u001b[1;33m\u001b[0m\u001b[0m\n\u001b[0m\u001b[0;32m     37\u001b[0m \u001b[1;33m\u001b[0m\u001b[0m\n\u001b[0;32m     38\u001b[0m \u001b[1;32mdef\u001b[0m \u001b[0mtotal_viewcount\u001b[0m\u001b[1;33m(\u001b[0m\u001b[0marticle_name\u001b[0m\u001b[1;33m)\u001b[0m\u001b[1;33m:\u001b[0m\u001b[1;33m\u001b[0m\u001b[0m\n",
      "\u001b[1;32m<ipython-input-147-9572c5db5cfe>\u001b[0m in \u001b[0;36mviewcounts\u001b[1;34m(article_name, start, end)\u001b[0m\n\u001b[0;32m     19\u001b[0m                                         \u001b[0mgranularity\u001b[0m\u001b[1;33m=\u001b[0m\u001b[1;34m\"daily\"\u001b[0m\u001b[1;33m,\u001b[0m\u001b[1;33m\u001b[0m\u001b[0m\n\u001b[0;32m     20\u001b[0m                                         \u001b[0mstart\u001b[0m\u001b[1;33m=\u001b[0m\u001b[0mstart\u001b[0m\u001b[1;33m,\u001b[0m\u001b[1;33m\u001b[0m\u001b[0m\n\u001b[1;32m---> 21\u001b[1;33m                                         end=end)\n\u001b[0m\u001b[0;32m     22\u001b[0m     \u001b[0mcounts\u001b[0m \u001b[1;33m=\u001b[0m \u001b[1;33m{\u001b[0m\u001b[0mkey\u001b[0m\u001b[1;33m:\u001b[0m \u001b[0mp\u001b[0m\u001b[1;33m[\u001b[0m\u001b[0mkey\u001b[0m\u001b[1;33m]\u001b[0m\u001b[1;33m[\u001b[0m\u001b[0marticle_name\u001b[0m\u001b[1;33m]\u001b[0m \u001b[1;32mfor\u001b[0m \u001b[0mkey\u001b[0m \u001b[1;32min\u001b[0m \u001b[0mp\u001b[0m\u001b[1;33m.\u001b[0m\u001b[0mkeys\u001b[0m\u001b[1;33m(\u001b[0m\u001b[1;33m)\u001b[0m\u001b[1;33m}\u001b[0m\u001b[1;33m\u001b[0m\u001b[0m\n\u001b[0;32m     23\u001b[0m     \u001b[1;31m# return [counts[key] for key in sorted(counts.keys())]\u001b[0m\u001b[1;33m\u001b[0m\u001b[1;33m\u001b[0m\u001b[0m\n",
      "\u001b[1;32mC:\\Users\\Alex\\Desktop\\signpostviews\\pageviews.py\u001b[0m in \u001b[0;36marticle_views\u001b[1;34m(self, project, articles, access, agent, granularity, start, end)\u001b[0m\n\u001b[0;32m    106\u001b[0m \u001b[1;33m\u001b[0m\u001b[0m\n\u001b[0;32m    107\u001b[0m         \u001b[1;32mtry\u001b[0m\u001b[1;33m:\u001b[0m\u001b[1;33m\u001b[0m\u001b[0m\n\u001b[1;32m--> 108\u001b[1;33m             \u001b[0mresults\u001b[0m \u001b[1;33m=\u001b[0m \u001b[0mself\u001b[0m\u001b[1;33m.\u001b[0m\u001b[0mget_concurrent\u001b[0m\u001b[1;33m(\u001b[0m\u001b[0murls\u001b[0m\u001b[1;33m)\u001b[0m\u001b[1;33m\u001b[0m\u001b[0m\n\u001b[0m\u001b[0;32m    109\u001b[0m             \u001b[0msome_data_returned\u001b[0m \u001b[1;33m=\u001b[0m \u001b[1;32mFalse\u001b[0m\u001b[1;33m\u001b[0m\u001b[0m\n\u001b[0;32m    110\u001b[0m             \u001b[1;32mfor\u001b[0m \u001b[0mresult\u001b[0m \u001b[1;32min\u001b[0m \u001b[0mresults\u001b[0m\u001b[1;33m:\u001b[0m\u001b[1;33m\u001b[0m\u001b[0m\n",
      "\u001b[1;32mC:\\Users\\Alex\\Desktop\\signpostviews\\pageviews.py\u001b[0m in \u001b[0;36mget_concurrent\u001b[1;34m(self, urls)\u001b[0m\n\u001b[0;32m    278\u001b[0m         \u001b[1;32mwith\u001b[0m \u001b[0mThreadPoolExecutor\u001b[0m\u001b[1;33m(\u001b[0m\u001b[0mself\u001b[0m\u001b[1;33m.\u001b[0m\u001b[0mparallelism\u001b[0m\u001b[1;33m)\u001b[0m \u001b[1;32mas\u001b[0m \u001b[0mexecutor\u001b[0m\u001b[1;33m:\u001b[0m\u001b[1;33m\u001b[0m\u001b[0m\n\u001b[0;32m    279\u001b[0m             \u001b[0mf\u001b[0m \u001b[1;33m=\u001b[0m \u001b[1;32mlambda\u001b[0m \u001b[0murl\u001b[0m\u001b[1;33m:\u001b[0m \u001b[0mrequests\u001b[0m\u001b[1;33m.\u001b[0m\u001b[0mget\u001b[0m\u001b[1;33m(\u001b[0m\u001b[0murl\u001b[0m\u001b[1;33m)\u001b[0m\u001b[1;33m.\u001b[0m\u001b[0mjson\u001b[0m\u001b[1;33m(\u001b[0m\u001b[1;33m)\u001b[0m\u001b[1;33m\u001b[0m\u001b[0m\n\u001b[1;32m--> 280\u001b[1;33m             \u001b[1;32mreturn\u001b[0m \u001b[0mlist\u001b[0m\u001b[1;33m(\u001b[0m\u001b[0mexecutor\u001b[0m\u001b[1;33m.\u001b[0m\u001b[0mmap\u001b[0m\u001b[1;33m(\u001b[0m\u001b[0mf\u001b[0m\u001b[1;33m,\u001b[0m \u001b[0murls\u001b[0m\u001b[1;33m)\u001b[0m\u001b[1;33m)\u001b[0m\u001b[1;33m\u001b[0m\u001b[0m\n\u001b[0m",
      "\u001b[1;32mC:\\Users\\Alex\\Anaconda3\\lib\\concurrent\\futures\\_base.py\u001b[0m in \u001b[0;36mresult_iterator\u001b[1;34m()\u001b[0m\n\u001b[0;32m    547\u001b[0m                 \u001b[1;32mfor\u001b[0m \u001b[0mfuture\u001b[0m \u001b[1;32min\u001b[0m \u001b[0mfs\u001b[0m\u001b[1;33m:\u001b[0m\u001b[1;33m\u001b[0m\u001b[0m\n\u001b[0;32m    548\u001b[0m                     \u001b[1;32mif\u001b[0m \u001b[0mtimeout\u001b[0m \u001b[1;32mis\u001b[0m \u001b[1;32mNone\u001b[0m\u001b[1;33m:\u001b[0m\u001b[1;33m\u001b[0m\u001b[0m\n\u001b[1;32m--> 549\u001b[1;33m                         \u001b[1;32myield\u001b[0m \u001b[0mfuture\u001b[0m\u001b[1;33m.\u001b[0m\u001b[0mresult\u001b[0m\u001b[1;33m(\u001b[0m\u001b[1;33m)\u001b[0m\u001b[1;33m\u001b[0m\u001b[0m\n\u001b[0m\u001b[0;32m    550\u001b[0m                     \u001b[1;32melse\u001b[0m\u001b[1;33m:\u001b[0m\u001b[1;33m\u001b[0m\u001b[0m\n\u001b[0;32m    551\u001b[0m                         \u001b[1;32myield\u001b[0m \u001b[0mfuture\u001b[0m\u001b[1;33m.\u001b[0m\u001b[0mresult\u001b[0m\u001b[1;33m(\u001b[0m\u001b[0mend_time\u001b[0m \u001b[1;33m-\u001b[0m \u001b[0mtime\u001b[0m\u001b[1;33m.\u001b[0m\u001b[0mtime\u001b[0m\u001b[1;33m(\u001b[0m\u001b[1;33m)\u001b[0m\u001b[1;33m)\u001b[0m\u001b[1;33m\u001b[0m\u001b[0m\n",
      "\u001b[1;32mC:\\Users\\Alex\\Anaconda3\\lib\\concurrent\\futures\\_base.py\u001b[0m in \u001b[0;36mresult\u001b[1;34m(self, timeout)\u001b[0m\n\u001b[0;32m    395\u001b[0m                 \u001b[1;32mreturn\u001b[0m \u001b[0mself\u001b[0m\u001b[1;33m.\u001b[0m\u001b[0m__get_result\u001b[0m\u001b[1;33m(\u001b[0m\u001b[1;33m)\u001b[0m\u001b[1;33m\u001b[0m\u001b[0m\n\u001b[0;32m    396\u001b[0m \u001b[1;33m\u001b[0m\u001b[0m\n\u001b[1;32m--> 397\u001b[1;33m             \u001b[0mself\u001b[0m\u001b[1;33m.\u001b[0m\u001b[0m_condition\u001b[0m\u001b[1;33m.\u001b[0m\u001b[0mwait\u001b[0m\u001b[1;33m(\u001b[0m\u001b[0mtimeout\u001b[0m\u001b[1;33m)\u001b[0m\u001b[1;33m\u001b[0m\u001b[0m\n\u001b[0m\u001b[0;32m    398\u001b[0m \u001b[1;33m\u001b[0m\u001b[0m\n\u001b[0;32m    399\u001b[0m             \u001b[1;32mif\u001b[0m \u001b[0mself\u001b[0m\u001b[1;33m.\u001b[0m\u001b[0m_state\u001b[0m \u001b[1;32min\u001b[0m \u001b[1;33m[\u001b[0m\u001b[0mCANCELLED\u001b[0m\u001b[1;33m,\u001b[0m \u001b[0mCANCELLED_AND_NOTIFIED\u001b[0m\u001b[1;33m]\u001b[0m\u001b[1;33m:\u001b[0m\u001b[1;33m\u001b[0m\u001b[0m\n",
      "\u001b[1;32mC:\\Users\\Alex\\Anaconda3\\lib\\threading.py\u001b[0m in \u001b[0;36mwait\u001b[1;34m(self, timeout)\u001b[0m\n\u001b[0;32m    288\u001b[0m         \u001b[1;32mtry\u001b[0m\u001b[1;33m:\u001b[0m    \u001b[1;31m# restore state no matter what (e.g., KeyboardInterrupt)\u001b[0m\u001b[1;33m\u001b[0m\u001b[0m\n\u001b[0;32m    289\u001b[0m             \u001b[1;32mif\u001b[0m \u001b[0mtimeout\u001b[0m \u001b[1;32mis\u001b[0m \u001b[1;32mNone\u001b[0m\u001b[1;33m:\u001b[0m\u001b[1;33m\u001b[0m\u001b[0m\n\u001b[1;32m--> 290\u001b[1;33m                 \u001b[0mwaiter\u001b[0m\u001b[1;33m.\u001b[0m\u001b[0macquire\u001b[0m\u001b[1;33m(\u001b[0m\u001b[1;33m)\u001b[0m\u001b[1;33m\u001b[0m\u001b[0m\n\u001b[0m\u001b[0;32m    291\u001b[0m                 \u001b[0mgotit\u001b[0m \u001b[1;33m=\u001b[0m \u001b[1;32mTrue\u001b[0m\u001b[1;33m\u001b[0m\u001b[0m\n\u001b[0;32m    292\u001b[0m             \u001b[1;32melse\u001b[0m\u001b[1;33m:\u001b[0m\u001b[1;33m\u001b[0m\u001b[0m\n",
      "\u001b[1;31mKeyboardInterrupt\u001b[0m: "
     ]
    }
   ],
   "source": [
    "targets = [article for article in get_all_articles(\"Wikipedia Signpost/2015-10-07/Op-ed\") if '2016' not in article]\n",
    "all_views = tabulate(targets)"
   ]
  }
 ],
 "metadata": {
  "kernelspec": {
   "display_name": "Python 3",
   "language": "python",
   "name": "python3"
  },
  "language_info": {
   "codemirror_mode": {
    "name": "ipython",
    "version": 3
   },
   "file_extension": ".py",
   "mimetype": "text/x-python",
   "name": "python",
   "nbconvert_exporter": "python",
   "pygments_lexer": "ipython3",
   "version": "3.4.3"
  }
 },
 "nbformat": 4,
 "nbformat_minor": 0
}
